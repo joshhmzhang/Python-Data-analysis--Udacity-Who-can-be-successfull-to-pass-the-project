{
 "cells": [
  {
   "cell_type": "markdown",
   "metadata": {},
   "source": [
    "## Load Data from CSVs"
   ]
  },
  {
   "cell_type": "code",
   "execution_count": 1,
   "metadata": {},
   "outputs": [
    {
     "name": "stdout",
     "output_type": "stream",
     "text": [
      "OrderedDict([('acct', '0'), ('utc_date', '2015-01-09'), ('num_courses_visited', '1.0'), ('total_minutes_visited', '11.6793745'), ('lessons_completed', '0.0'), ('projects_completed', '0.0')])\n"
     ]
    }
   ],
   "source": [
    "#####################################\n",
    "#                 1                 #\n",
    "#####################################\n",
    "\n",
    "## Read in the data from daily_engagement.csv and project_submissions.csv \n",
    "## and store the results in the below variables.\n",
    "## Then look at the first row of each table.\n",
    "#rede file as dictionary\n",
    "\n",
    "import csv\n",
    "def readfile(filename):\n",
    "    with open(filename) as f:\n",
    "        read_file=csv.DictReader(f)\n",
    "        return list(read_file)\n",
    "        \n",
    "\n",
    "enrollments=readfile('enrollments.csv')\n",
    "daily_engagement = readfile('daily_engagement.csv')\n",
    "project_submissions = readfile('project_submissions.csv')\n",
    "\n",
    "print(daily_engagement[0])\n"
   ]
  },
  {
   "cell_type": "markdown",
   "metadata": {},
   "source": [
    "## Fixing Data Types"
   ]
  },
  {
   "cell_type": "code",
   "execution_count": 2,
   "metadata": {},
   "outputs": [
    {
     "data": {
      "text/plain": [
       "OrderedDict([('account_key', '448'),\n",
       "             ('status', 'canceled'),\n",
       "             ('join_date', datetime.datetime(2014, 11, 10, 0, 0)),\n",
       "             ('cancel_date', datetime.datetime(2015, 1, 14, 0, 0)),\n",
       "             ('days_to_cancel', 65),\n",
       "             ('is_udacity', True),\n",
       "             ('is_canceled', True)])"
      ]
     },
     "execution_count": 2,
     "metadata": {},
     "output_type": "execute_result"
    }
   ],
   "source": [
    "# Takes a date as a string, and returns a Python datetime object. \n",
    "# If there is no date given, returns None\n",
    "import datetime as dt \n",
    "def clean_date(date):\n",
    "    if date=='':\n",
    "        return None\n",
    "    else:\n",
    "        return dt.datetime.strptime(date,'%Y-%m-%d')\n",
    "    \n",
    "def clean_int(days):\n",
    "    if days == '':\n",
    "        return None\n",
    "    else:\n",
    "        return int(days)\n",
    "    \n",
    "#clen the data in enrollments.csv\n",
    "for enrollment in enrollments:\n",
    "    enrollment['join_date']=clean_date(enrollment['join_date'])\n",
    "    enrollment['cancel_date']=clean_date(enrollment['cancel_date'])\n",
    "    enrollment['days_to_cancel']=clean_int(enrollment['days_to_cancel'])\n",
    "    enrollment['is_udacity']=(enrollment['is_udacity']=='True')\n",
    "    enrollment['is_canceled']=(enrollment['is_canceled']=='True')\n",
    "    \n",
    "enrollments[0]\n"
   ]
  },
  {
   "cell_type": "code",
   "execution_count": 3,
   "metadata": {},
   "outputs": [
    {
     "data": {
      "text/plain": [
       "OrderedDict([('acct', '0'),\n",
       "             ('utc_date', datetime.datetime(2015, 1, 9, 0, 0)),\n",
       "             ('num_courses_visited', 1),\n",
       "             ('total_minutes_visited', 11.6793745),\n",
       "             ('lessons_completed', 0),\n",
       "             ('projects_completed', 0)])"
      ]
     },
     "execution_count": 3,
     "metadata": {},
     "output_type": "execute_result"
    }
   ],
   "source": [
    "# Clean up the data types in the engagement table\n",
    "for engagement_record in daily_engagement:\n",
    "    engagement_record['lessons_completed'] = int(float(engagement_record['lessons_completed']))\n",
    "    engagement_record['num_courses_visited'] = int(float(engagement_record['num_courses_visited']))\n",
    "    engagement_record['projects_completed'] = int(float(engagement_record['projects_completed']))\n",
    "    engagement_record['total_minutes_visited'] = float(engagement_record['total_minutes_visited'])\n",
    "    engagement_record['utc_date'] = clean_date(engagement_record['utc_date'])\n",
    "    \n",
    "daily_engagement[0]\n"
   ]
  },
  {
   "cell_type": "code",
   "execution_count": 4,
   "metadata": {},
   "outputs": [
    {
     "data": {
      "text/plain": [
       "OrderedDict([('creation_date', datetime.datetime(2015, 1, 14, 0, 0)),\n",
       "             ('completion_date', datetime.datetime(2015, 1, 16, 0, 0)),\n",
       "             ('assigned_rating', 'UNGRADED'),\n",
       "             ('account_key', '256'),\n",
       "             ('lesson_key', '3176718735'),\n",
       "             ('processing_state', 'EVALUATED')])"
      ]
     },
     "execution_count": 4,
     "metadata": {},
     "output_type": "execute_result"
    }
   ],
   "source": [
    "# Clean up the data types in the submissions table\n",
    "for submission in project_submissions:\n",
    "    submission['completion_date'] = clean_date(submission['completion_date'])\n",
    "    submission['creation_date'] = clean_date(submission['creation_date'])\n",
    "\n",
    "project_submissions[0]"
   ]
  },
  {
   "cell_type": "markdown",
   "metadata": {},
   "source": [
    "## Investigating the Data"
   ]
  },
  {
   "cell_type": "code",
   "execution_count": 5,
   "metadata": {},
   "outputs": [
    {
     "name": "stdout",
     "output_type": "stream",
     "text": [
      "There are 1640 rows and 1302 unique students in enrollments table\n",
      "There are 136240 rows and 1237 unique students in daily_engagement table\n",
      "There are 3642 rows and 743 unique students in project_submissions table\n"
     ]
    }
   ],
   "source": [
    "#####################################\n",
    "#                 2                 #\n",
    "#####################################\n",
    "\n",
    "## Find the total number of rows and the number of unique students (account keys)\n",
    "## in each table.\n",
    "\n",
    "#check unique student with list\n",
    "\n",
    "#num=0\n",
    "#record=[]\n",
    "#for enrollment in enrollments:\n",
    "#    if enrollment['account_key'] not in record:\n",
    "#        record.append(enrollment['account_key'])\n",
    "#        num+=1\n",
    "        \n",
    "#nor check unique student with set since set doesnot contain duplicate\n",
    "unique_enrolled_students = set()\n",
    "unique_engagement_students = set()\n",
    "unique_project_submitters = set()\n",
    "for enrollment in enrollments:\n",
    "    unique_enrolled_students.add(enrollment['account_key'])\n",
    "for engagement_record in daily_engagement:\n",
    "    unique_engagement_students.add(engagement_record['acct'])\n",
    "for submission in project_submissions:\n",
    "    unique_project_submitters.add(submission['account_key'])\n",
    "\n",
    "print('There are {} rows and {} unique students in enrollments table'.format(len(enrollments),len(unique_enrolled_students)))\n",
    "print('There are {} rows and {} unique students in daily_engagement table'.format(len(daily_engagement),len(unique_engagement_students)))\n",
    "print('There are {} rows and {} unique students in project_submissions table'.format(len(project_submissions),len(unique_project_submitters)))\n",
    "\n",
    "\n"
   ]
  },
  {
   "cell_type": "markdown",
   "metadata": {},
   "source": [
    "## Problems in the Data"
   ]
  },
  {
   "cell_type": "code",
   "execution_count": 6,
   "metadata": {},
   "outputs": [
    {
     "data": {
      "text/plain": [
       "OrderedDict([('utc_date', datetime.datetime(2015, 1, 9, 0, 0)),\n",
       "             ('num_courses_visited', 1),\n",
       "             ('total_minutes_visited', 11.6793745),\n",
       "             ('lessons_completed', 0),\n",
       "             ('projects_completed', 0),\n",
       "             ('account_key', '0')])"
      ]
     },
     "execution_count": 6,
     "metadata": {},
     "output_type": "execute_result"
    }
   ],
   "source": [
    "#####################################\n",
    "#                 3                 #\n",
    "#####################################\n",
    "\n",
    "## Rename the \"acct\" column in the daily_engagement table to \"account_key\".\n",
    "for item in daily_engagement:\n",
    "    item['account_key']=item.pop('acct')\n",
    "daily_engagement[0]\n",
    "\n"
   ]
  },
  {
   "cell_type": "markdown",
   "metadata": {},
   "source": [
    "## Missing Engagement Records\n",
    "\n",
    "Need to find out why uniqure student in daily_engagement table is less than enrollments table\n",
    "  * any enrolled student with no corresponding engagement data?"
   ]
  },
  {
   "cell_type": "code",
   "execution_count": 7,
   "metadata": {},
   "outputs": [
    {
     "name": "stdout",
     "output_type": "stream",
     "text": [
      "OrderedDict([('account_key', '1219'), ('status', 'canceled'), ('join_date', datetime.datetime(2014, 11, 12, 0, 0)), ('cancel_date', datetime.datetime(2014, 11, 12, 0, 0)), ('days_to_cancel', 0), ('is_udacity', False), ('is_canceled', True)])\n"
     ]
    }
   ],
   "source": [
    "#####################################\n",
    "#                 4                 #\n",
    "#####################################\n",
    "\n",
    "## Find any one student enrollments where the student is missing from the daily engagement table.\n",
    "## Output that enrollment.\n",
    "for enrollment in enrollments:\n",
    "    if enrollment['account_key'] not in unique_engagement_students:\n",
    "        print(enrollment)\n",
    "        break\n",
    "\n"
   ]
  },
  {
   "cell_type": "markdown",
   "metadata": {},
   "source": [
    "So this record shows the student enroled and canceled in the same day which explained the difference in number"
   ]
  },
  {
   "cell_type": "markdown",
   "metadata": {},
   "source": [
    "## Checking for More Problem Records\n",
    "\n"
   ]
  },
  {
   "cell_type": "code",
   "execution_count": 8,
   "metadata": {},
   "outputs": [
    {
     "name": "stdout",
     "output_type": "stream",
     "text": [
      "OrderedDict([('account_key', '1304'), ('status', 'canceled'), ('join_date', datetime.datetime(2015, 1, 10, 0, 0)), ('cancel_date', datetime.datetime(2015, 3, 10, 0, 0)), ('days_to_cancel', 59), ('is_udacity', True), ('is_canceled', True)])\n",
      "OrderedDict([('account_key', '1304'), ('status', 'canceled'), ('join_date', datetime.datetime(2015, 3, 10, 0, 0)), ('cancel_date', datetime.datetime(2015, 6, 17, 0, 0)), ('days_to_cancel', 99), ('is_udacity', True), ('is_canceled', True)])\n",
      "OrderedDict([('account_key', '1101'), ('status', 'current'), ('join_date', datetime.datetime(2015, 2, 25, 0, 0)), ('cancel_date', None), ('days_to_cancel', None), ('is_udacity', True), ('is_canceled', False)])\n",
      "\n",
      "\n",
      "There are 3 students missing\n"
     ]
    }
   ],
   "source": [
    "#####################################\n",
    "#                 5                 #\n",
    "#####################################\n",
    "\n",
    "## Find the number of surprising data points (enrollments missing from\n",
    "## the engagement table) that remain, if any.\n",
    "num_missing=0\n",
    "\n",
    "for enrollment in enrollments:\n",
    "    if enrollment['account_key'] not in unique_engagement_students and enrollment['days_to_cancel']!=0:\n",
    "        num_missing+=1\n",
    "        print(enrollment)\n",
    "print('\\n')            \n",
    "print('There are {} students missing'.format(num_missing))       "
   ]
  },
  {
   "cell_type": "markdown",
   "metadata": {},
   "source": [
    "It turns out if 'is_udacity' is True, then it is a test account and should be excluded from analysis"
   ]
  },
  {
   "cell_type": "markdown",
   "metadata": {},
   "source": [
    "## Tracking Down the Remaining Problems"
   ]
  },
  {
   "cell_type": "code",
   "execution_count": 9,
   "metadata": {},
   "outputs": [
    {
     "data": {
      "text/plain": [
       "6"
      ]
     },
     "execution_count": 9,
     "metadata": {},
     "output_type": "execute_result"
    }
   ],
   "source": [
    "# Create a set of the account keys for all Udacity test accounts\n",
    "udacity_test_accounts = set()\n",
    "for enrollment in enrollments:\n",
    "    if enrollment['is_udacity']:\n",
    "        udacity_test_accounts.add(enrollment['account_key'])\n",
    "len(udacity_test_accounts)"
   ]
  },
  {
   "cell_type": "code",
   "execution_count": 10,
   "metadata": {},
   "outputs": [],
   "source": [
    "# Given some data with an account_key field, removes any records corresponding to Udacity test accounts\n",
    "def remove_test_accounts(data):\n",
    "    non_test_data = []\n",
    "    for item in data:\n",
    "        if item['account_key'] not in udacity_test_accounts:\n",
    "            non_test_data.append(item)\n",
    "    return non_test_data"
   ]
  },
  {
   "cell_type": "code",
   "execution_count": 11,
   "metadata": {},
   "outputs": [
    {
     "name": "stdout",
     "output_type": "stream",
     "text": [
      "1622\n",
      "135656\n",
      "3634\n",
      "[OrderedDict([('utc_date', datetime.datetime(2015, 1, 9, 0, 0)), ('num_courses_visited', 1), ('total_minutes_visited', 11.6793745), ('lessons_completed', 0), ('projects_completed', 0), ('account_key', '0')])]\n"
     ]
    }
   ],
   "source": [
    "# Remove Udacity test accounts from all three tables\n",
    "non_test_enrollments = remove_test_accounts(enrollments)\n",
    "non_test_engagement = remove_test_accounts(daily_engagement)\n",
    "non_test_submissions = remove_test_accounts(project_submissions)\n",
    "\n",
    "print (len(non_test_enrollments))\n",
    "print (len(non_test_engagement))\n",
    "print (len(non_test_submissions))\n",
    "\n",
    "print(non_test_engagement[:1])"
   ]
  },
  {
   "cell_type": "markdown",
   "metadata": {},
   "source": [
    "## Refining the Question\n",
    "Question:How do numbers in the daily enagement table differ for students who pass the first project?\n",
    "\n",
    "Issues: \n",
    "* the table contains data from after the project submission\n",
    "* it is not fair to cpmpare the data from students who spend different lengths of time\n",
    "* data contains the info about courses not related to the first prject"
   ]
  },
  {
   "cell_type": "code",
   "execution_count": 12,
   "metadata": {},
   "outputs": [
    {
     "data": {
      "text/plain": [
       "995"
      ]
     },
     "execution_count": 12,
     "metadata": {},
     "output_type": "execute_result"
    }
   ],
   "source": [
    "#####################################\n",
    "#                 6                 #\n",
    "#####################################\n",
    "\n",
    "## Create a dictionary named paid_students containing all students who either\n",
    "## haven't canceled yet or who remained enrolled for more than 7 days. The keys\n",
    "## should be account keys, and the values should be the most recent date the student enrolled.\n",
    "\n",
    "paid_students ={}\n",
    "for enrollment in non_test_enrollments:\n",
    "    if not enrollment['is_canceled'] or enrollment['days_to_cancel'] > 7:\n",
    "        if enrollment['account_key'] not in paid_students or enrollment['join_date'] > paid_students[enrollment['account_key']]:\n",
    "            paid_students[enrollment['account_key']]=enrollment['join_date']\n",
    "            \n",
    "len(paid_students)"
   ]
  },
  {
   "cell_type": "markdown",
   "metadata": {},
   "source": [
    "## Getting Data from First Week"
   ]
  },
  {
   "cell_type": "code",
   "execution_count": 13,
   "metadata": {},
   "outputs": [],
   "source": [
    "# Takes a student's join date and the date of a specific engagement record,\n",
    "# and returns True if that engagement record happened within one week\n",
    "# of the student joining.\n",
    "def within_one_week(join_date, engagement_date):\n",
    "    time_delta = engagement_date - join_date\n",
    "    return time_delta.days < 7"
   ]
  },
  {
   "cell_type": "code",
   "execution_count": 14,
   "metadata": {},
   "outputs": [
    {
     "data": {
      "text/plain": [
       "[OrderedDict([('utc_date', datetime.datetime(2015, 1, 9, 0, 0)),\n",
       "              ('num_courses_visited', 1),\n",
       "              ('total_minutes_visited', 11.6793745),\n",
       "              ('lessons_completed', 0),\n",
       "              ('projects_completed', 0),\n",
       "              ('account_key', '0')]),\n",
       " OrderedDict([('utc_date', datetime.datetime(2015, 1, 10, 0, 0)),\n",
       "              ('num_courses_visited', 2),\n",
       "              ('total_minutes_visited', 37.2848873333),\n",
       "              ('lessons_completed', 0),\n",
       "              ('projects_completed', 0),\n",
       "              ('account_key', '0')])]"
      ]
     },
     "execution_count": 14,
     "metadata": {},
     "output_type": "execute_result"
    }
   ],
   "source": [
    "#####################################\n",
    "#                 7                 #\n",
    "#####################################\n",
    "\n",
    "## Create a list of rows from the engagement table including only rows where\n",
    "## the student is one of the paid students you just found, and the date is within\n",
    "## one week of the student's join date.\n",
    "\n",
    "paid_engagement_in_first_week = []\n",
    "\n",
    "for record in non_test_engagement:\n",
    "    if record['account_key'] in paid_students and within_one_week(paid_students[record['account_key']], record['utc_date']):\n",
    "        paid_engagement_in_first_week.append(record)\n",
    "        \n",
    "len(paid_engagement_in_first_week)\n",
    "paid_engagement_in_first_week[:2]"
   ]
  },
  {
   "cell_type": "markdown",
   "metadata": {},
   "source": [
    "## Exploring Student Engagement"
   ]
  },
  {
   "cell_type": "code",
   "execution_count": 15,
   "metadata": {},
   "outputs": [
    {
     "name": "stdout",
     "output_type": "stream",
     "text": [
      "[OrderedDict([('utc_date', datetime.datetime(2015, 5, 6, 0, 0)), ('num_courses_visited', 1), ('total_minutes_visited', 9.640248), ('lessons_completed', 0), ('projects_completed', 0), ('account_key', '1')]), OrderedDict([('utc_date', datetime.datetime(2015, 5, 7, 0, 0)), ('num_courses_visited', 0), ('total_minutes_visited', 0.0), ('lessons_completed', 0), ('projects_completed', 0), ('account_key', '1')]), OrderedDict([('utc_date', datetime.datetime(2015, 5, 8, 0, 0)), ('num_courses_visited', 0), ('total_minutes_visited', 0.0), ('lessons_completed', 0), ('projects_completed', 0), ('account_key', '1')]), OrderedDict([('utc_date', datetime.datetime(2015, 5, 9, 0, 0)), ('num_courses_visited', 0), ('total_minutes_visited', 0.0), ('lessons_completed', 0), ('projects_completed', 0), ('account_key', '1')]), OrderedDict([('utc_date', datetime.datetime(2015, 5, 10, 0, 0)), ('num_courses_visited', 0), ('total_minutes_visited', 0.0), ('lessons_completed', 0), ('projects_completed', 0), ('account_key', '1')]), OrderedDict([('utc_date', datetime.datetime(2015, 5, 11, 0, 0)), ('num_courses_visited', 0), ('total_minutes_visited', 0.0), ('lessons_completed', 0), ('projects_completed', 0), ('account_key', '1')]), OrderedDict([('utc_date', datetime.datetime(2015, 5, 12, 0, 0)), ('num_courses_visited', 1), ('total_minutes_visited', 8.93613666667), ('lessons_completed', 0), ('projects_completed', 0), ('account_key', '1')])]\n"
     ]
    }
   ],
   "source": [
    "from collections import defaultdict\n",
    "\n",
    "#defaultdict example:\n",
    "#s = [('yellow', 1), ('blue', 2), ('yellow', 3), ('blue', 4), ('red', 1)]\n",
    "#d = defaultdict(list)\n",
    "#for k, v in s:\n",
    "#     d[k].append(v)\n",
    "\n",
    "#d['yellow']\n",
    "#[1, 3]\n",
    "\n",
    "\n",
    "# Create a dictionary of engagement grouped by student.\n",
    "# The keys are account keys, and the values are lists of engagement records.\n",
    "engagement_by_account = defaultdict(list)\n",
    "for engagement_record in paid_engagement_in_first_week:\n",
    "    account_key = engagement_record['account_key']\n",
    "    engagement_by_account[account_key].append(engagement_record)\n",
    "print(engagement_by_account['1'])"
   ]
  },
  {
   "cell_type": "code",
   "execution_count": 16,
   "metadata": {},
   "outputs": [],
   "source": [
    "# Create a dictionary with the total minutes each student spent in the classroom during the first week.\n",
    "# The keys are account keys, and the values are numbers (total minutes)\n",
    "total_minutes_by_account = {}\n",
    "for account_key, engagement_for_student in engagement_by_account.items():\n",
    "    total_minutes = 0\n",
    "    for engagement_record in engagement_for_student:\n",
    "        total_minutes += engagement_record['total_minutes_visited']\n",
    "    total_minutes_by_account[account_key] = total_minutes"
   ]
  },
  {
   "cell_type": "code",
   "execution_count": 17,
   "metadata": {},
   "outputs": [],
   "source": [
    "#import statistics could calculat the dictionary value\n",
    "#total_minutes = total_minutes_by_account.values()\n",
    "#statistics.mean(total_minutes)\n",
    "#max(total_minutes)\n"
   ]
  },
  {
   "cell_type": "code",
   "execution_count": 18,
   "metadata": {},
   "outputs": [
    {
     "name": "stdout",
     "output_type": "stream",
     "text": [
      "Mean: 647.5901738262695\n",
      "Standard deviation: 1129.2712104188108\n",
      "Minimum: 0.0\n",
      "Maximum: 10568.100867332541\n"
     ]
    },
    {
     "data": {
      "text/plain": [
       "7.3389589356475975"
      ]
     },
     "execution_count": 18,
     "metadata": {},
     "output_type": "execute_result"
    }
   ],
   "source": [
    "import numpy as np\n",
    "\n",
    "# Summarize the data about minutes spent in the classroom\n",
    "#need to convert dictionary value to a list, then use numpy \n",
    "total_minutes = list(total_minutes_by_account.values())\n",
    "#print(total_minutes)\n",
    "print ('Mean:', np.mean(total_minutes))\n",
    "print ('Standard deviation:', np.std(total_minutes))\n",
    "print ('Minimum:', np.min(total_minutes))\n",
    "print ('Maximum:', np.max(total_minutes))\n",
    "\n",
    "np.max(total_minutes)/60/24"
   ]
  },
  {
   "cell_type": "markdown",
   "metadata": {},
   "source": [
    "max mins is 10568mins which is equal to 7.3 days, which is impossible since it is the data within the first week(7days)"
   ]
  },
  {
   "cell_type": "markdown",
   "metadata": {},
   "source": [
    "## Debugging Data Analysis Code"
   ]
  },
  {
   "cell_type": "code",
   "execution_count": 19,
   "metadata": {},
   "outputs": [
    {
     "name": "stdout",
     "output_type": "stream",
     "text": [
      "10568.100867332541\n",
      "OrderedDict([('utc_date', datetime.datetime(2015, 1, 7, 0, 0)), ('num_courses_visited', 1), ('total_minutes_visited', 50.9938951667), ('lessons_completed', 0), ('projects_completed', 0), ('account_key', '108')])\n",
      "OrderedDict([('utc_date', datetime.datetime(2015, 1, 8, 0, 0)), ('num_courses_visited', 2), ('total_minutes_visited', 688.3034385), ('lessons_completed', 5), ('projects_completed', 0), ('account_key', '108')])\n",
      "OrderedDict([('utc_date', datetime.datetime(2015, 1, 9, 0, 0)), ('num_courses_visited', 2), ('total_minutes_visited', 427.691757667), ('lessons_completed', 1), ('projects_completed', 0), ('account_key', '108')])\n",
      "OrderedDict([('utc_date', datetime.datetime(2015, 1, 10, 0, 0)), ('num_courses_visited', 3), ('total_minutes_visited', 165.6270925), ('lessons_completed', 0), ('projects_completed', 0), ('account_key', '108')])\n",
      "OrderedDict([('utc_date', datetime.datetime(2015, 1, 11, 0, 0)), ('num_courses_visited', 0), ('total_minutes_visited', 0.0), ('lessons_completed', 0), ('projects_completed', 0), ('account_key', '108')])\n",
      "OrderedDict([('utc_date', datetime.datetime(2015, 1, 12, 0, 0)), ('num_courses_visited', 2), ('total_minutes_visited', 199.746703834), ('lessons_completed', 0), ('projects_completed', 0), ('account_key', '108')])\n",
      "OrderedDict([('utc_date', datetime.datetime(2015, 1, 13, 0, 0)), ('num_courses_visited', 1), ('total_minutes_visited', 522.626804333), ('lessons_completed', 0), ('projects_completed', 0), ('account_key', '108')])\n",
      "OrderedDict([('utc_date', datetime.datetime(2015, 1, 14, 0, 0)), ('num_courses_visited', 1), ('total_minutes_visited', 19.3757686667), ('lessons_completed', 0), ('projects_completed', 0), ('account_key', '108')])\n",
      "OrderedDict([('utc_date', datetime.datetime(2015, 1, 15, 0, 0)), ('num_courses_visited', 1), ('total_minutes_visited', 159.846594), ('lessons_completed', 1), ('projects_completed', 0), ('account_key', '108')])\n",
      "OrderedDict([('utc_date', datetime.datetime(2015, 1, 16, 0, 0)), ('num_courses_visited', 2), ('total_minutes_visited', 188.953028166), ('lessons_completed', 0), ('projects_completed', 0), ('account_key', '108')])\n",
      "OrderedDict([('utc_date', datetime.datetime(2015, 1, 17, 0, 0)), ('num_courses_visited', 3), ('total_minutes_visited', 150.338208833), ('lessons_completed', 1), ('projects_completed', 0), ('account_key', '108')])\n",
      "OrderedDict([('utc_date', datetime.datetime(2015, 1, 18, 0, 0)), ('num_courses_visited', 2), ('total_minutes_visited', 46.2042118333), ('lessons_completed', 0), ('projects_completed', 0), ('account_key', '108')])\n",
      "OrderedDict([('utc_date', datetime.datetime(2015, 1, 19, 0, 0)), ('num_courses_visited', 0), ('total_minutes_visited', 0.0), ('lessons_completed', 0), ('projects_completed', 0), ('account_key', '108')])\n",
      "OrderedDict([('utc_date', datetime.datetime(2015, 1, 20, 0, 0)), ('num_courses_visited', 0), ('total_minutes_visited', 0.0), ('lessons_completed', 0), ('projects_completed', 0), ('account_key', '108')])\n",
      "OrderedDict([('utc_date', datetime.datetime(2015, 1, 21, 0, 0)), ('num_courses_visited', 0), ('total_minutes_visited', 0.0), ('lessons_completed', 0), ('projects_completed', 0), ('account_key', '108')])\n",
      "OrderedDict([('utc_date', datetime.datetime(2015, 1, 22, 0, 0)), ('num_courses_visited', 2), ('total_minutes_visited', 31.7297723333), ('lessons_completed', 0), ('projects_completed', 0), ('account_key', '108')])\n",
      "OrderedDict([('utc_date', datetime.datetime(2015, 1, 23, 0, 0)), ('num_courses_visited', 1), ('total_minutes_visited', 206.586538333), ('lessons_completed', 0), ('projects_completed', 0), ('account_key', '108')])\n",
      "OrderedDict([('utc_date', datetime.datetime(2015, 1, 24, 0, 0)), ('num_courses_visited', 0), ('total_minutes_visited', 0.0), ('lessons_completed', 0), ('projects_completed', 0), ('account_key', '108')])\n",
      "OrderedDict([('utc_date', datetime.datetime(2015, 1, 25, 0, 0)), ('num_courses_visited', 0), ('total_minutes_visited', 0.0), ('lessons_completed', 0), ('projects_completed', 0), ('account_key', '108')])\n",
      "OrderedDict([('utc_date', datetime.datetime(2015, 1, 26, 0, 0)), ('num_courses_visited', 1), ('total_minutes_visited', 129.350111833), ('lessons_completed', 0), ('projects_completed', 0), ('account_key', '108')])\n",
      "OrderedDict([('utc_date', datetime.datetime(2015, 1, 27, 0, 0)), ('num_courses_visited', 1), ('total_minutes_visited', 73.5691376667), ('lessons_completed', 0), ('projects_completed', 0), ('account_key', '108')])\n",
      "OrderedDict([('utc_date', datetime.datetime(2015, 1, 28, 0, 0)), ('num_courses_visited', 0), ('total_minutes_visited', 0.0), ('lessons_completed', 0), ('projects_completed', 0), ('account_key', '108')])\n",
      "OrderedDict([('utc_date', datetime.datetime(2015, 1, 29, 0, 0)), ('num_courses_visited', 1), ('total_minutes_visited', 271.0895865), ('lessons_completed', 0), ('projects_completed', 0), ('account_key', '108')])\n",
      "OrderedDict([('utc_date', datetime.datetime(2015, 1, 30, 0, 0)), ('num_courses_visited', 1), ('total_minutes_visited', 432.252650333), ('lessons_completed', 1), ('projects_completed', 0), ('account_key', '108')])\n",
      "OrderedDict([('utc_date', datetime.datetime(2015, 1, 31, 0, 0)), ('num_courses_visited', 1), ('total_minutes_visited', 196.13898), ('lessons_completed', 0), ('projects_completed', 0), ('account_key', '108')])\n",
      "OrderedDict([('utc_date', datetime.datetime(2015, 2, 1, 0, 0)), ('num_courses_visited', 1), ('total_minutes_visited', 68.9915653333), ('lessons_completed', 0), ('projects_completed', 0), ('account_key', '108')])\n",
      "OrderedDict([('utc_date', datetime.datetime(2015, 2, 2, 0, 0)), ('num_courses_visited', 2), ('total_minutes_visited', 86.3277713333), ('lessons_completed', 0), ('projects_completed', 0), ('account_key', '108')])\n",
      "OrderedDict([('utc_date', datetime.datetime(2015, 2, 3, 0, 0)), ('num_courses_visited', 0), ('total_minutes_visited', 0.0), ('lessons_completed', 0), ('projects_completed', 0), ('account_key', '108')])\n",
      "OrderedDict([('utc_date', datetime.datetime(2015, 2, 4, 0, 0)), ('num_courses_visited', 0), ('total_minutes_visited', 0.0), ('lessons_completed', 0), ('projects_completed', 0), ('account_key', '108')])\n",
      "OrderedDict([('utc_date', datetime.datetime(2015, 2, 5, 0, 0)), ('num_courses_visited', 1), ('total_minutes_visited', 153.230525), ('lessons_completed', 0), ('projects_completed', 0), ('account_key', '108')])\n",
      "OrderedDict([('utc_date', datetime.datetime(2015, 2, 6, 0, 0)), ('num_courses_visited', 0), ('total_minutes_visited', 0.0), ('lessons_completed', 0), ('projects_completed', 0), ('account_key', '108')])\n",
      "OrderedDict([('utc_date', datetime.datetime(2015, 2, 7, 0, 0)), ('num_courses_visited', 0), ('total_minutes_visited', 0.0), ('lessons_completed', 0), ('projects_completed', 0), ('account_key', '108')])\n",
      "OrderedDict([('utc_date', datetime.datetime(2015, 2, 8, 0, 0)), ('num_courses_visited', 0), ('total_minutes_visited', 0.0), ('lessons_completed', 0), ('projects_completed', 0), ('account_key', '108')])\n",
      "OrderedDict([('utc_date', datetime.datetime(2015, 2, 9, 0, 0)), ('num_courses_visited', 1), ('total_minutes_visited', 16.687455), ('lessons_completed', 0), ('projects_completed', 0), ('account_key', '108')])\n",
      "OrderedDict([('utc_date', datetime.datetime(2015, 2, 10, 0, 0)), ('num_courses_visited', 1), ('total_minutes_visited', 133.047518833), ('lessons_completed', 0), ('projects_completed', 0), ('account_key', '108')])\n",
      "OrderedDict([('utc_date', datetime.datetime(2015, 2, 11, 0, 0)), ('num_courses_visited', 2), ('total_minutes_visited', 60.2176756667), ('lessons_completed', 0), ('projects_completed', 0), ('account_key', '108')])\n",
      "OrderedDict([('utc_date', datetime.datetime(2015, 2, 12, 0, 0)), ('num_courses_visited', 3), ('total_minutes_visited', 160.438302667), ('lessons_completed', 0), ('projects_completed', 0), ('account_key', '108')])\n",
      "OrderedDict([('utc_date', datetime.datetime(2015, 2, 13, 0, 0)), ('num_courses_visited', 2), ('total_minutes_visited', 506.220547), ('lessons_completed', 4), ('projects_completed', 0), ('account_key', '108')])\n",
      "OrderedDict([('utc_date', datetime.datetime(2015, 2, 14, 0, 0)), ('num_courses_visited', 1), ('total_minutes_visited', 105.095858167), ('lessons_completed', 0), ('projects_completed', 0), ('account_key', '108')])\n",
      "OrderedDict([('utc_date', datetime.datetime(2015, 2, 15, 0, 0)), ('num_courses_visited', 0), ('total_minutes_visited', 0.0), ('lessons_completed', 0), ('projects_completed', 0), ('account_key', '108')])\n",
      "OrderedDict([('utc_date', datetime.datetime(2015, 2, 16, 0, 0)), ('num_courses_visited', 0), ('total_minutes_visited', 0.0), ('lessons_completed', 0), ('projects_completed', 0), ('account_key', '108')])\n",
      "OrderedDict([('utc_date', datetime.datetime(2015, 2, 17, 0, 0)), ('num_courses_visited', 1), ('total_minutes_visited', 2.851689), ('lessons_completed', 0), ('projects_completed', 0), ('account_key', '108')])\n",
      "OrderedDict([('utc_date', datetime.datetime(2015, 2, 18, 0, 0)), ('num_courses_visited', 1), ('total_minutes_visited', 10.9540768333), ('lessons_completed', 1), ('projects_completed', 0), ('account_key', '108')])\n",
      "OrderedDict([('utc_date', datetime.datetime(2015, 2, 19, 0, 0)), ('num_courses_visited', 1), ('total_minutes_visited', 474.2906025), ('lessons_completed', 3), ('projects_completed', 0), ('account_key', '108')])\n",
      "OrderedDict([('utc_date', datetime.datetime(2015, 2, 20, 0, 0)), ('num_courses_visited', 2), ('total_minutes_visited', 820.879483167), ('lessons_completed', 5), ('projects_completed', 0), ('account_key', '108')])\n",
      "OrderedDict([('utc_date', datetime.datetime(2015, 2, 21, 0, 0)), ('num_courses_visited', 2), ('total_minutes_visited', 189.447189334), ('lessons_completed', 2), ('projects_completed', 0), ('account_key', '108')])\n",
      "OrderedDict([('utc_date', datetime.datetime(2015, 2, 22, 0, 0)), ('num_courses_visited', 2), ('total_minutes_visited', 97.7356985), ('lessons_completed', 1), ('projects_completed', 0), ('account_key', '108')])\n",
      "OrderedDict([('utc_date', datetime.datetime(2015, 2, 23, 0, 0)), ('num_courses_visited', 1), ('total_minutes_visited', 16.399642), ('lessons_completed', 0), ('projects_completed', 0), ('account_key', '108')])\n",
      "OrderedDict([('utc_date', datetime.datetime(2015, 2, 24, 0, 0)), ('num_courses_visited', 0), ('total_minutes_visited', 0.0), ('lessons_completed', 0), ('projects_completed', 0), ('account_key', '108')])\n",
      "OrderedDict([('utc_date', datetime.datetime(2015, 2, 25, 0, 0)), ('num_courses_visited', 0), ('total_minutes_visited', 0.0), ('lessons_completed', 0), ('projects_completed', 0), ('account_key', '108')])\n",
      "OrderedDict([('utc_date', datetime.datetime(2015, 2, 26, 0, 0)), ('num_courses_visited', 0), ('total_minutes_visited', 0.0), ('lessons_completed', 0), ('projects_completed', 0), ('account_key', '108')])\n",
      "OrderedDict([('utc_date', datetime.datetime(2015, 2, 27, 0, 0)), ('num_courses_visited', 0), ('total_minutes_visited', 0.0), ('lessons_completed', 0), ('projects_completed', 0), ('account_key', '108')])\n",
      "OrderedDict([('utc_date', datetime.datetime(2015, 2, 28, 0, 0)), ('num_courses_visited', 0), ('total_minutes_visited', 0.0), ('lessons_completed', 0), ('projects_completed', 0), ('account_key', '108')])\n",
      "OrderedDict([('utc_date', datetime.datetime(2015, 3, 1, 0, 0)), ('num_courses_visited', 0), ('total_minutes_visited', 0.0), ('lessons_completed', 0), ('projects_completed', 0), ('account_key', '108')])\n",
      "OrderedDict([('utc_date', datetime.datetime(2015, 3, 2, 0, 0)), ('num_courses_visited', 0), ('total_minutes_visited', 0.0), ('lessons_completed', 0), ('projects_completed', 0), ('account_key', '108')])\n",
      "OrderedDict([('utc_date', datetime.datetime(2015, 3, 3, 0, 0)), ('num_courses_visited', 0), ('total_minutes_visited', 0.0), ('lessons_completed', 0), ('projects_completed', 0), ('account_key', '108')])\n",
      "OrderedDict([('utc_date', datetime.datetime(2015, 3, 4, 0, 0)), ('num_courses_visited', 1), ('total_minutes_visited', 2.0494365), ('lessons_completed', 0), ('projects_completed', 0), ('account_key', '108')])\n",
      "OrderedDict([('utc_date', datetime.datetime(2015, 3, 5, 0, 0)), ('num_courses_visited', 0), ('total_minutes_visited', 0.0), ('lessons_completed', 0), ('projects_completed', 0), ('account_key', '108')])\n",
      "OrderedDict([('utc_date', datetime.datetime(2015, 3, 6, 0, 0)), ('num_courses_visited', 2), ('total_minutes_visited', 431.799976167), ('lessons_completed', 2), ('projects_completed', 0), ('account_key', '108')])\n",
      "OrderedDict([('utc_date', datetime.datetime(2015, 3, 7, 0, 0)), ('num_courses_visited', 1), ('total_minutes_visited', 119.514411833), ('lessons_completed', 1), ('projects_completed', 0), ('account_key', '108')])\n",
      "OrderedDict([('utc_date', datetime.datetime(2015, 3, 8, 0, 0)), ('num_courses_visited', 1), ('total_minutes_visited', 164.2608825), ('lessons_completed', 1), ('projects_completed', 0), ('account_key', '108')])\n",
      "OrderedDict([('utc_date', datetime.datetime(2015, 3, 9, 0, 0)), ('num_courses_visited', 2), ('total_minutes_visited', 179.749760666), ('lessons_completed', 0), ('projects_completed', 0), ('account_key', '108')])\n",
      "OrderedDict([('utc_date', datetime.datetime(2015, 3, 10, 0, 0)), ('num_courses_visited', 0), ('total_minutes_visited', 0.0), ('lessons_completed', 0), ('projects_completed', 0), ('account_key', '108')])\n",
      "OrderedDict([('utc_date', datetime.datetime(2015, 3, 11, 0, 0)), ('num_courses_visited', 0), ('total_minutes_visited', 0.0), ('lessons_completed', 0), ('projects_completed', 0), ('account_key', '108')])\n",
      "OrderedDict([('utc_date', datetime.datetime(2015, 3, 12, 0, 0)), ('num_courses_visited', 1), ('total_minutes_visited', 10.787165), ('lessons_completed', 0), ('projects_completed', 0), ('account_key', '108')])\n",
      "OrderedDict([('utc_date', datetime.datetime(2015, 3, 13, 0, 0)), ('num_courses_visited', 1), ('total_minutes_visited', 53.0065191667), ('lessons_completed', 0), ('projects_completed', 0), ('account_key', '108')])\n",
      "OrderedDict([('utc_date', datetime.datetime(2015, 3, 14, 0, 0)), ('num_courses_visited', 1), ('total_minutes_visited', 203.048973667), ('lessons_completed', 1), ('projects_completed', 0), ('account_key', '108')])\n",
      "OrderedDict([('utc_date', datetime.datetime(2015, 3, 15, 0, 0)), ('num_courses_visited', 1), ('total_minutes_visited', 51.2993831667), ('lessons_completed', 0), ('projects_completed', 0), ('account_key', '108')])\n",
      "OrderedDict([('utc_date', datetime.datetime(2015, 3, 16, 0, 0)), ('num_courses_visited', 0), ('total_minutes_visited', 0.0), ('lessons_completed', 0), ('projects_completed', 0), ('account_key', '108')])\n",
      "OrderedDict([('utc_date', datetime.datetime(2015, 3, 17, 0, 0)), ('num_courses_visited', 1), ('total_minutes_visited', 148.2304025), ('lessons_completed', 0), ('projects_completed', 0), ('account_key', '108')])\n",
      "OrderedDict([('utc_date', datetime.datetime(2015, 3, 18, 0, 0)), ('num_courses_visited', 1), ('total_minutes_visited', 27.5826056667), ('lessons_completed', 0), ('projects_completed', 0), ('account_key', '108')])\n",
      "OrderedDict([('utc_date', datetime.datetime(2015, 3, 19, 0, 0)), ('num_courses_visited', 0), ('total_minutes_visited', 0.0), ('lessons_completed', 0), ('projects_completed', 0), ('account_key', '108')])\n",
      "OrderedDict([('utc_date', datetime.datetime(2015, 3, 20, 0, 0)), ('num_courses_visited', 0), ('total_minutes_visited', 0.0), ('lessons_completed', 0), ('projects_completed', 0), ('account_key', '108')])\n",
      "OrderedDict([('utc_date', datetime.datetime(2015, 3, 21, 0, 0)), ('num_courses_visited', 1), ('total_minutes_visited', 14.4492643333), ('lessons_completed', 0), ('projects_completed', 0), ('account_key', '108')])\n",
      "OrderedDict([('utc_date', datetime.datetime(2015, 3, 22, 0, 0)), ('num_courses_visited', 1), ('total_minutes_visited', 159.175812667), ('lessons_completed', 1), ('projects_completed', 0), ('account_key', '108')])\n",
      "OrderedDict([('utc_date', datetime.datetime(2015, 3, 23, 0, 0)), ('num_courses_visited', 1), ('total_minutes_visited', 23.0641448333), ('lessons_completed', 0), ('projects_completed', 0), ('account_key', '108')])\n",
      "OrderedDict([('utc_date', datetime.datetime(2015, 3, 24, 0, 0)), ('num_courses_visited', 2), ('total_minutes_visited', 327.687187333), ('lessons_completed', 3), ('projects_completed', 1), ('account_key', '108')])\n",
      "OrderedDict([('utc_date', datetime.datetime(2015, 3, 25, 0, 0)), ('num_courses_visited', 1), ('total_minutes_visited', 210.324669), ('lessons_completed', 5), ('projects_completed', 0), ('account_key', '108')])\n",
      "OrderedDict([('utc_date', datetime.datetime(2015, 3, 26, 0, 0)), ('num_courses_visited', 2), ('total_minutes_visited', 114.421496), ('lessons_completed', 0), ('projects_completed', 0), ('account_key', '108')])\n",
      "OrderedDict([('utc_date', datetime.datetime(2015, 3, 27, 0, 0)), ('num_courses_visited', 1), ('total_minutes_visited', 85.2018686667), ('lessons_completed', 0), ('projects_completed', 0), ('account_key', '108')])\n",
      "OrderedDict([('utc_date', datetime.datetime(2015, 3, 28, 0, 0)), ('num_courses_visited', 1), ('total_minutes_visited', 9.53501516667), ('lessons_completed', 0), ('projects_completed', 0), ('account_key', '108')])\n",
      "OrderedDict([('utc_date', datetime.datetime(2015, 3, 29, 0, 0)), ('num_courses_visited', 0), ('total_minutes_visited', 0.0), ('lessons_completed', 0), ('projects_completed', 0), ('account_key', '108')])\n",
      "OrderedDict([('utc_date', datetime.datetime(2015, 3, 30, 0, 0)), ('num_courses_visited', 0), ('total_minutes_visited', 0.0), ('lessons_completed', 0), ('projects_completed', 0), ('account_key', '108')])\n",
      "OrderedDict([('utc_date', datetime.datetime(2015, 3, 31, 0, 0)), ('num_courses_visited', 0), ('total_minutes_visited', 0.0), ('lessons_completed', 0), ('projects_completed', 0), ('account_key', '108')])\n",
      "OrderedDict([('utc_date', datetime.datetime(2015, 4, 1, 0, 0)), ('num_courses_visited', 3), ('total_minutes_visited', 147.569145833), ('lessons_completed', 0), ('projects_completed', 0), ('account_key', '108')])\n",
      "OrderedDict([('utc_date', datetime.datetime(2015, 4, 2, 0, 0)), ('num_courses_visited', 3), ('total_minutes_visited', 77.2467501667), ('lessons_completed', 0), ('projects_completed', 0), ('account_key', '108')])\n",
      "OrderedDict([('utc_date', datetime.datetime(2015, 4, 3, 0, 0)), ('num_courses_visited', 3), ('total_minutes_visited', 84.8263243333), ('lessons_completed', 0), ('projects_completed', 0), ('account_key', '108')])\n",
      "OrderedDict([('utc_date', datetime.datetime(2015, 4, 4, 0, 0)), ('num_courses_visited', 0), ('total_minutes_visited', 0.0), ('lessons_completed', 0), ('projects_completed', 0), ('account_key', '108')])\n",
      "OrderedDict([('utc_date', datetime.datetime(2015, 4, 5, 0, 0)), ('num_courses_visited', 0), ('total_minutes_visited', 0.0), ('lessons_completed', 0), ('projects_completed', 0), ('account_key', '108')])\n",
      "OrderedDict([('utc_date', datetime.datetime(2015, 4, 6, 0, 0)), ('num_courses_visited', 2), ('total_minutes_visited', 32.9969003333), ('lessons_completed', 0), ('projects_completed', 0), ('account_key', '108')])\n",
      "OrderedDict([('utc_date', datetime.datetime(2015, 4, 7, 0, 0)), ('num_courses_visited', 1), ('total_minutes_visited', 173.764699333), ('lessons_completed', 0), ('projects_completed', 0), ('account_key', '108')])\n",
      "OrderedDict([('utc_date', datetime.datetime(2015, 4, 8, 0, 0)), ('num_courses_visited', 0), ('total_minutes_visited', 0.0), ('lessons_completed', 0), ('projects_completed', 0), ('account_key', '108')])\n",
      "OrderedDict([('utc_date', datetime.datetime(2015, 4, 9, 0, 0)), ('num_courses_visited', 1), ('total_minutes_visited', 85.6887951667), ('lessons_completed', 0), ('projects_completed', 0), ('account_key', '108')])\n",
      "OrderedDict([('utc_date', datetime.datetime(2015, 4, 10, 0, 0)), ('num_courses_visited', 2), ('total_minutes_visited', 72.4837255), ('lessons_completed', 0), ('projects_completed', 0), ('account_key', '108')])\n",
      "OrderedDict([('utc_date', datetime.datetime(2015, 4, 11, 0, 0)), ('num_courses_visited', 0), ('total_minutes_visited', 0.0), ('lessons_completed', 0), ('projects_completed', 0), ('account_key', '108')])\n",
      "OrderedDict([('utc_date', datetime.datetime(2015, 4, 12, 0, 0)), ('num_courses_visited', 0), ('total_minutes_visited', 0.0), ('lessons_completed', 0), ('projects_completed', 0), ('account_key', '108')])\n",
      "OrderedDict([('utc_date', datetime.datetime(2015, 4, 13, 0, 0)), ('num_courses_visited', 0), ('total_minutes_visited', 0.0), ('lessons_completed', 0), ('projects_completed', 0), ('account_key', '108')])\n",
      "OrderedDict([('utc_date', datetime.datetime(2015, 4, 14, 0, 0)), ('num_courses_visited', 1), ('total_minutes_visited', 36.9211676667), ('lessons_completed', 0), ('projects_completed', 0), ('account_key', '108')])\n",
      "OrderedDict([('utc_date', datetime.datetime(2015, 4, 15, 0, 0)), ('num_courses_visited', 2), ('total_minutes_visited', 179.353473333), ('lessons_completed', 1), ('projects_completed', 0), ('account_key', '108')])\n",
      "OrderedDict([('utc_date', datetime.datetime(2015, 4, 16, 0, 0)), ('num_courses_visited', 2), ('total_minutes_visited', 274.209734167), ('lessons_completed', 0), ('projects_completed', 0), ('account_key', '108')])\n",
      "OrderedDict([('utc_date', datetime.datetime(2015, 4, 17, 0, 0)), ('num_courses_visited', 1), ('total_minutes_visited', 40.340405), ('lessons_completed', 0), ('projects_completed', 0), ('account_key', '108')])\n",
      "OrderedDict([('utc_date', datetime.datetime(2015, 4, 18, 0, 0)), ('num_courses_visited', 0), ('total_minutes_visited', 0.0), ('lessons_completed', 0), ('projects_completed', 0), ('account_key', '108')])\n",
      "OrderedDict([('utc_date', datetime.datetime(2015, 4, 19, 0, 0)), ('num_courses_visited', 0), ('total_minutes_visited', 0.0), ('lessons_completed', 0), ('projects_completed', 0), ('account_key', '108')])\n",
      "OrderedDict([('utc_date', datetime.datetime(2015, 4, 20, 0, 0)), ('num_courses_visited', 2), ('total_minutes_visited', 25.9137858334), ('lessons_completed', 0), ('projects_completed', 0), ('account_key', '108')])\n",
      "OrderedDict([('utc_date', datetime.datetime(2015, 4, 21, 0, 0)), ('num_courses_visited', 1), ('total_minutes_visited', 3.40682316667), ('lessons_completed', 0), ('projects_completed', 0), ('account_key', '108')])\n",
      "OrderedDict([('utc_date', datetime.datetime(2015, 4, 22, 0, 0)), ('num_courses_visited', 2), ('total_minutes_visited', 99.1186611667), ('lessons_completed', 0), ('projects_completed', 0), ('account_key', '108')])\n",
      "OrderedDict([('utc_date', datetime.datetime(2015, 4, 23, 0, 0)), ('num_courses_visited', 1), ('total_minutes_visited', 35.8316206667), ('lessons_completed', 0), ('projects_completed', 2), ('account_key', '108')])\n",
      "OrderedDict([('utc_date', datetime.datetime(2015, 4, 24, 0, 0)), ('num_courses_visited', 0), ('total_minutes_visited', 0.0), ('lessons_completed', 0), ('projects_completed', 0), ('account_key', '108')])\n",
      "OrderedDict([('utc_date', datetime.datetime(2015, 4, 25, 0, 0)), ('num_courses_visited', 0), ('total_minutes_visited', 0.0), ('lessons_completed', 0), ('projects_completed', 0), ('account_key', '108')])\n",
      "OrderedDict([('utc_date', datetime.datetime(2015, 4, 26, 0, 0)), ('num_courses_visited', 0), ('total_minutes_visited', 0.0), ('lessons_completed', 0), ('projects_completed', 0), ('account_key', '108')])\n"
     ]
    }
   ],
   "source": [
    "#####################################\n",
    "#                 8                 #\n",
    "#####################################\n",
    "\n",
    "## Go through a similar process as before to see if there is a problem.\n",
    "## Locate at least one surprising piece of data, output it, and take a look at it.\n",
    "\n",
    "#to locate the student who has the max minites in the first week\n",
    "Maxmins=0\n",
    "student_maxmins=None\n",
    "for student,mins in total_minutes_by_account.items():\n",
    "    if mins>Maxmins:\n",
    "        Maxmins=mins\n",
    "        student_maxmins=student\n",
    "print (Maxmins)\n",
    "\n",
    "#print the student info from engagement table\n",
    "for item in paid_engagement_in_first_week:\n",
    "    if item['account_key']==student_maxmins:\n",
    "        print (item)"
   ]
  },
  {
   "cell_type": "raw",
   "metadata": {},
   "source": [
    "we found the record is including from January to April, which is wrong. \n",
    "\n",
    "def within_one_week(join_date, engagement_date):\n",
    "    time_delta = engagement_date - join_date\n",
    "    return time_delta.days < 7\n",
    "\n",
    "for this founction, didnot consider if the engagement_date is before the join day. for example is the student enroled and cancelled and enroled again. so we need to rewrite the founction as below:\n",
    "\n",
    "def within_one_week(join_date, engagement_date):\n",
    "    time_delta = engagement_date - join_date\n",
    "    return time_delta.days < 7 and time_delta.days >=0\n",
    "    \n",
    "    \n",
    "After recalculation, the correct results are as below:\n",
    "\n",
    "Mean:306.7\n",
    "SD: 412.9\n",
    "Min:0\n",
    "Max:3564.7 (2.5days)"
   ]
  },
  {
   "cell_type": "markdown",
   "metadata": {},
   "source": [
    "## Lessons Completed in First Week"
   ]
  },
  {
   "cell_type": "code",
   "execution_count": 20,
   "metadata": {
    "scrolled": true
   },
   "outputs": [
    {
     "name": "stdout",
     "output_type": "stream",
     "text": [
      "mean 1.636180904522613\n",
      "STD 3.002561299829423\n",
      "min 0\n",
      "max 36\n"
     ]
    }
   ],
   "source": [
    "#####################################\n",
    "#                 9                 #\n",
    "#####################################\n",
    "\n",
    "## Adapt the code above to find the mean, standard deviation, minimum, and maximum for\n",
    "## the number of lessons completed by each student during the first week. Try creating\n",
    "## one or more functions to re-use the code above.\n",
    "\n",
    "def within_one_week(join_date, engagement_date):\n",
    "    time_delta = engagement_date - join_date\n",
    "    return time_delta.days < 7 and time_delta.days >=0\n",
    "\n",
    "paid_engagement_in_first_week = []\n",
    "\n",
    "for record in non_test_engagement:\n",
    "    if record['account_key'] in paid_students and within_one_week(paid_students[record['account_key']], record['utc_date']):\n",
    "        paid_engagement_in_first_week.append(record)\n",
    "\n",
    "\n",
    "## creat the founctions:\n",
    "from collections import defaultdict\n",
    "\n",
    "def group_data(data,key_name):\n",
    "    grouped_data=defaultdict(list)\n",
    "    for item in data:\n",
    "        grouped_data[item[key_name]].append(item)\n",
    "    return grouped_data\n",
    "\n",
    "engagement_by_account=group_data(paid_engagement_in_first_week,'account_key')\n",
    "  \n",
    "        \n",
    "def sum_group_item(data,key_name): \n",
    "    sum_group_item={}\n",
    "    for student,records in data.items():\n",
    "        total=0\n",
    "        for item in records:\n",
    "            total+=item[key_name]\n",
    "        sum_group_item[student]=total\n",
    "    return sum_group_item\n",
    "\n",
    "total_lession_by_student=sum_group_item(engagement_by_account,'lessons_completed')\n",
    "\n",
    "def stats_summary(data): \n",
    "    print('mean',np.mean(list(data.values())))\n",
    "    print('STD',np.std(list(data.values())))\n",
    "    print('min',np.min(list(data.values())))\n",
    "    print('max',np.max(list(data.values())))\n",
    "\n",
    "stats_summary(total_lession_by_student)\n",
    "\n"
   ]
  },
  {
   "cell_type": "markdown",
   "metadata": {},
   "source": [
    "## Number of Visits in First Week"
   ]
  },
  {
   "cell_type": "code",
   "execution_count": 21,
   "metadata": {},
   "outputs": [
    {
     "name": "stdout",
     "output_type": "stream",
     "text": [
      "mean 2.8673366834170855\n",
      "STD 2.2551980029196814\n",
      "min 0\n",
      "max 7\n"
     ]
    }
   ],
   "source": [
    "######################################\n",
    "#                 10                 #\n",
    "######################################\n",
    "\n",
    "## Find the mean, standard deviation, minimum, and maximum for the number of\n",
    "## days each student visits the classroom during the first week.\n",
    "\n",
    "\n",
    "for item in paid_engagement_in_first_week:\n",
    "    if item['num_courses_visited']>0:\n",
    "        item['has_visited']=1\n",
    "    else:\n",
    "        item['has_visited']=0\n",
    "        \n",
    "engagement_by_account=group_data(paid_engagement_in_first_week,'account_key')\n",
    "\n",
    "days_has_visited=sum_group_item(engagement_by_account,'has_visited')\n",
    "\n",
    "stats_summary(days_has_visited)"
   ]
  },
  {
   "cell_type": "markdown",
   "metadata": {},
   "source": [
    "## Splitting out Passing Students"
   ]
  },
  {
   "cell_type": "code",
   "execution_count": 22,
   "metadata": {},
   "outputs": [
    {
     "name": "stdout",
     "output_type": "stream",
     "text": [
      "4527\n",
      "2392\n"
     ]
    }
   ],
   "source": [
    "######################################\n",
    "#                 11                 #\n",
    "######################################\n",
    "\n",
    "## Create two lists of engagement data for paid students in the first week.\n",
    "## The first list should contain data for students who eventually pass the\n",
    "## subway project, and the second list should contain data for students\n",
    "## who do not.\n",
    "\n",
    "subway_project_lesson_keys = ['746169184', '3176718735']\n",
    "\n",
    "#project_submissions[0]\n",
    "passed_stu=set()\n",
    "not_passed_stu=set()\n",
    "for submission in project_submissions:\n",
    "    if submission['lesson_key'] in subway_project_lesson_keys:\n",
    "        if submission['assigned_rating']=='PASSED' or submission['assigned_rating']=='DISTINCTION':\n",
    "            passed_stu.add(submission['account_key'])\n",
    "        else:\n",
    "            not_passed_stu.add(submission['account_key'])\n",
    "            \n",
    "passing_engagement=[]\n",
    "non_passing_engagement=[]\n",
    "for item in paid_engagement_in_first_week:\n",
    "    if item['account_key'] in passed_stu:\n",
    "        passing_engagement.append(item)\n",
    "    else:\n",
    "        non_passing_engagement.append(item)\n",
    "\n",
    "print(len(passing_engagement))\n",
    "print(len(non_passing_engagement))\n"
   ]
  },
  {
   "cell_type": "markdown",
   "metadata": {},
   "source": [
    "## Comparing the Two Student Groups"
   ]
  },
  {
   "cell_type": "code",
   "execution_count": 23,
   "metadata": {},
   "outputs": [
    {
     "name": "stdout",
     "output_type": "stream",
     "text": [
      "passing stu:\n",
      "mean 394.58604648350865\n",
      "STD 448.4995193265521\n",
      "min 0.0\n",
      "max 3564.7332644989997\n",
      "\n",
      "\n",
      "none passing stu:\n",
      "mean 143.32647426675584\n",
      "STD 269.5386190114951\n",
      "min 0.0\n",
      "max 1768.5227493319999\n"
     ]
    },
    {
     "data": {
      "text/plain": [
       "647"
      ]
     },
     "execution_count": 23,
     "metadata": {},
     "output_type": "execute_result"
    }
   ],
   "source": [
    "######################################\n",
    "#                 12                 #\n",
    "######################################\n",
    "\n",
    "## Compute some metrics you're interested in and see how they differ for\n",
    "## students who pass the subway project vs. students who don't. A good\n",
    "## starting point would be the metrics we looked at earlier (minutes spent\n",
    "## in the classroom, lessons completed, and days visited).\n",
    "\n",
    "#find out the mins they spend\n",
    "pass_engagement_by_account=group_data(passing_engagement,'account_key')  \n",
    "no_pass_engagement_by_account=group_data(non_passing_engagement,'account_key')\n",
    "\n",
    "mins_by_pass_student=sum_group_item(pass_engagement_by_account,'total_minutes_visited')\n",
    "mins_by_no_pass_student=sum_group_item(no_pass_engagement_by_account,'total_minutes_visited')\n",
    "\n",
    "print('passing stu:')\n",
    "stats_summary(mins_by_pass_student)\n",
    "print('\\n')\n",
    "print('none passing stu:')\n",
    "stats_summary(mins_by_no_pass_student)\n",
    "\n",
    "len(pass_engagement_by_account)"
   ]
  },
  {
   "cell_type": "code",
   "execution_count": 24,
   "metadata": {},
   "outputs": [
    {
     "name": "stdout",
     "output_type": "stream",
     "text": [
      "passing stu:\n",
      "mean 3.384853168469861\n",
      "STD 2.2588214709184595\n",
      "min 0\n",
      "max 7\n",
      "\n",
      "\n",
      "none passing stu:\n",
      "mean 1.9051724137931034\n",
      "STD 1.9057314413619046\n",
      "min 0\n",
      "max 7\n"
     ]
    }
   ],
   "source": [
    "#find out the days they spend\n",
    "days_by_pass_student=sum_group_item(pass_engagement_by_account,'has_visited')\n",
    "days_by_no_pass_student=sum_group_item(no_pass_engagement_by_account,'has_visited')\n",
    "\n",
    "print('passing stu:')\n",
    "stats_summary(days_by_pass_student)\n",
    "print('\\n')\n",
    "print('none passing stu:')\n",
    "stats_summary(days_by_no_pass_student)"
   ]
  },
  {
   "cell_type": "code",
   "execution_count": 25,
   "metadata": {},
   "outputs": [
    {
     "name": "stdout",
     "output_type": "stream",
     "text": [
      "passing stu:\n",
      "mean 2.052550231839258\n",
      "STD 3.1422270555779344\n",
      "min 0\n",
      "max 36\n",
      "\n",
      "\n",
      "none passing stu:\n",
      "mean 0.8620689655172413\n",
      "STD 2.5491599418312028\n",
      "min 0\n",
      "max 27\n"
     ]
    }
   ],
   "source": [
    "#find out the lessons they completed\n",
    "\n",
    "lessons_by_pass_student=sum_group_item(pass_engagement_by_account,'lessons_completed')\n",
    "lessons_by_no_pass_student=sum_group_item(no_pass_engagement_by_account,'lessons_completed')\n",
    "\n",
    "print('passing stu:')\n",
    "stats_summary(lessons_by_pass_student)\n",
    "print('\\n')\n",
    "print('none passing stu:')\n",
    "stats_summary(lessons_by_no_pass_student)\n",
    "\n"
   ]
  },
  {
   "cell_type": "markdown",
   "metadata": {},
   "source": [
    "it is more clear from the avg time they spend in the first week:6.5r vs 2.3r"
   ]
  },
  {
   "cell_type": "markdown",
   "metadata": {},
   "source": [
    "## Making Histograms"
   ]
  },
  {
   "cell_type": "code",
   "execution_count": 34,
   "metadata": {},
   "outputs": [
    {
     "name": "stdout",
     "output_type": "stream",
     "text": [
      "mins_by_pass_student\n",
      "mean 394.58604648350865\n",
      "STD 448.4995193265521\n",
      "min 0.0\n",
      "max 3564.7332644989997\n",
      "\n",
      "mins_by_no_pass_student\n",
      "mean 143.32647426675584\n",
      "STD 269.5386190114951\n",
      "min 0.0\n",
      "max 1768.5227493319999\n"
     ]
    },
    {
     "data": {
      "image/png": "[encoded data removed]",
      "text/plain": [
       "<matplotlib.figure.Figure at 0x114e2f9e8>"
      ]
     },
     "metadata": {},
     "output_type": "display_data"
    }
   ],
   "source": [
    "######################################\n",
    "#                 13                 #\n",
    "######################################\n",
    "\n",
    "## Make histograms of the three metrics we looked at earlier for both\n",
    "## students who passed the subway project and students who didn't. You\n",
    "## might also want to make histograms of any other metrics you examined.\n",
    "\n",
    "%matplotlib inline\n",
    "import matplotlib.pyplot as plt\n",
    "\n",
    "def plot_results(data):\n",
    "    plt.hist(data.values())\n",
    "\n",
    "\n",
    "print('mins_by_pass_student')\n",
    "stats_summary(mins_by_pass_student)\n",
    "plot_results(mins_by_pass_student)\n",
    "\n",
    "print('\\nmins_by_no_pass_student')\n",
    "stats_summary(mins_by_no_pass_student)\n",
    "plot_results(mins_by_no_pass_student)"
   ]
  },
  {
   "cell_type": "code",
   "execution_count": 35,
   "metadata": {},
   "outputs": [
    {
     "name": "stdout",
     "output_type": "stream",
     "text": [
      "days_by_pass_student\n",
      "mean 3.384853168469861\n",
      "STD 2.2588214709184595\n",
      "min 0\n",
      "max 7\n",
      "\n",
      "days_by_no_pass_student\n",
      "mean 1.9051724137931034\n",
      "STD 1.9057314413619046\n",
      "min 0\n",
      "max 7\n"
     ]
    },
    {
     "data": {
      "image/png": "[encoded data removed]",
      "text/plain": [
       "<matplotlib.figure.Figure at 0x1146eaf28>"
      ]
     },
     "metadata": {},
     "output_type": "display_data"
    }
   ],
   "source": [
    "print('days_by_pass_student')\n",
    "stats_summary(days_by_pass_student)\n",
    "plot_results(days_by_pass_student)\n",
    "\n",
    "print('\\ndays_by_no_pass_student')\n",
    "stats_summary(days_by_no_pass_student)\n",
    "plot_results(days_by_no_pass_student)\n"
   ]
  },
  {
   "cell_type": "code",
   "execution_count": 36,
   "metadata": {},
   "outputs": [
    {
     "name": "stdout",
     "output_type": "stream",
     "text": [
      "lessons_by_pass_student\n",
      "mean 2.052550231839258\n",
      "STD 3.1422270555779344\n",
      "min 0\n",
      "max 36\n",
      "\n",
      "lessons_by_no_pass_student\n",
      "mean 0.8620689655172413\n",
      "STD 2.5491599418312028\n",
      "min 0\n",
      "max 27\n"
     ]
    },
    {
     "data": {
      "image/png": "[encoded data removed]",
      "text/plain": [
       "<matplotlib.figure.Figure at 0x114724470>"
      ]
     },
     "metadata": {},
     "output_type": "display_data"
    }
   ],
   "source": [
    "print('lessons_by_pass_student')\n",
    "stats_summary(lessons_by_pass_student)\n",
    "plot_results(lessons_by_pass_student)\n",
    "\n",
    "print('\\nlessons_by_no_pass_student')\n",
    "stats_summary(lessons_by_no_pass_student)\n",
    "plot_results(lessons_by_no_pass_student)"
   ]
  },
  {
   "cell_type": "markdown",
   "metadata": {},
   "source": [
    "## Improving Plots and Sharing Findings"
   ]
  },
  {
   "cell_type": "code",
   "execution_count": 51,
   "metadata": {},
   "outputs": [
    {
     "data": {
      "text/plain": [
       "Text(0.5,0,'Minutes')"
      ]
     },
     "execution_count": 51,
     "metadata": {},
     "output_type": "execute_result"
    },
    {
     "data": {
      "image/png": "[encoded data removed]",
      "text/plain": [
       "<matplotlib.figure.Figure at 0x113a8e240>"
      ]
     },
     "metadata": {},
     "output_type": "display_data"
    }
   ],
   "source": [
    "######################################\n",
    "#                 14                 #\n",
    "######################################\n",
    "\n",
    "## Make a more polished version of at least one of your visualizations\n",
    "## from earlier. Try importing the seaborn library to make the visualization\n",
    "## look better, adding axis labels and a title, and changing one or more\n",
    "## arguments to the hist() function.\n",
    "import seaborn as sns\n",
    "\n",
    "\n",
    "plt.hist(mins_by_pass_student.values(),bins=8)\n",
    "plt.hist(mins_by_no_pass_student.values(),bins=8)\n",
    "plt.title('Distribution of time(mins) spend by the students in the first week')\n",
    "plt.xlabel('Minutes')\n"
   ]
  },
  {
   "cell_type": "code",
   "execution_count": 52,
   "metadata": {},
   "outputs": [
    {
     "data": {
      "text/plain": [
       "Text(0.5,0,'Number of days')"
      ]
     },
     "execution_count": 52,
     "metadata": {},
     "output_type": "execute_result"
    },
    {
     "data": {
      "image/png": "[encoded data removed]",
      "text/plain": [
       "<matplotlib.figure.Figure at 0x113a41dd8>"
      ]
     },
     "metadata": {},
     "output_type": "display_data"
    }
   ],
   "source": [
    "plt.hist(days_by_pass_student.values(),bins=8)\n",
    "plt.hist(days_by_no_pass_student.values(),bins=8)\n",
    "plt.title('Distribution of days spend by the students in the first week')\n",
    "plt.xlabel('Number of days')"
   ]
  },
  {
   "cell_type": "code",
   "execution_count": 53,
   "metadata": {},
   "outputs": [
    {
     "data": {
      "text/plain": [
       "Text(0.5,0,'Number of lessons')"
      ]
     },
     "execution_count": 53,
     "metadata": {},
     "output_type": "execute_result"
    },
    {
     "data": {
      "image/png": "[encoded data removed]",
      "text/plain": [
       "<matplotlib.figure.Figure at 0x1139fbc18>"
      ]
     },
     "metadata": {},
     "output_type": "display_data"
    }
   ],
   "source": [
    "\n",
    "plt.hist(lessons_by_pass_student.values(),bins=8)\n",
    "plt.hist(lessons_by_no_pass_student.values(),bins=8)\n",
    "plt.title('Distribution of lessons taken by the students in the first week')\n",
    "plt.xlabel('Number of lessons')\n",
    "\n"
   ]
  },
  {
   "cell_type": "markdown",
   "metadata": {},
   "source": [
    "## Tentative conclusion\n",
    "\n",
    "Student spend more times in the first week have more chance to pass the project. However, will need to validate with the statistics analysis. A/B testing need to be conducted to find out the casiation of the factors.Maching learning could be applied to predict what kind of the student is more likely to pass the project."
   ]
  },
  {
   "cell_type": "code",
   "execution_count": null,
   "metadata": {},
   "outputs": [],
   "source": []
  }
 ],
 "metadata": {
  "kernelspec": {
   "display_name": "Python 3",
   "language": "python",
   "name": "python3"
  },
  "language_info": {
   "codemirror_mode": {
    "name": "ipython",
    "version": 3
   },
   "file_extension": ".py",
   "mimetype": "text/x-python",
   "name": "python",
   "nbconvert_exporter": "python",
   "pygments_lexer": "ipython3",
   "version": "3.6.4"
  }
 },
 "nbformat": 4,
 "nbformat_minor": 1
}
